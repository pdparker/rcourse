{
 "metadata": {
  "name": ""
 },
 "nbformat": 3,
 "nbformat_minor": 0,
 "worksheets": [
  {
   "cells": [
    {
     "cell_type": "markdown",
     "metadata": {},
     "source": [
      "Introduction to Structural Equation Modelling\n",
      "=============================================\n",
      "\n",
      "Outline\n",
      "-----------\n",
      "1. SEM Intuition\n",
      "2. SEM Under the hood\n",
      "3. Brief Introduction to SEM in R"
     ]
    },
    {
     "cell_type": "markdown",
     "metadata": {},
     "source": [
      "History\n",
      "------------\n"
     ]
    },
    {
     "cell_type": "markdown",
     "metadata": {},
     "source": [
      "![factor](files/mplus-cfa.gif)"
     ]
    },
    {
     "cell_type": "markdown",
     "metadata": {},
     "source": [
      "SEM Intutition \n",
      "----------------\n",
      "\n",
      "* A t-test is a complicated form of a mean\n",
      "* An anova is an extension of a t-test\n",
      "* All below are really just regressions\n",
      "* Factor analysis and principal components are just complicated regression\n",
      "* Both of those are nested under structural equation modelling\n",
      "\n",
      "\n",
      "So if you can do a t-test you can understand SEM."
     ]
    },
    {
     "cell_type": "markdown",
     "metadata": {},
     "source": [
      "Do's, Do not's, and Shouldn'ts \n",
      "-----------\n",
      "\n",
      "Do:\n",
      "\n",
      "1. DON'T PANIC!!!\n",
      "2. Follow the arrows - It is all Just regression after all.\n",
      "3. THINK what does each arrow in my model mean. What am I implying about reality\n",
      "4. Ask why or how do we know\n",
      "\n",
      "Don't:\n",
      "\n",
      "1. Unthinkingly accept rules of thumb - what about YOUR context\n",
      "2. Assume the statistic and not the thoery and study design are the most important bits\n",
      "3. Choose SEM because its fancy. \n",
      "\n",
      "Shouldn't:\n",
      "\n",
      "1. Just because you can fit a complex model doesn't mean you should fit a complex model\n",
      "2. Don't fit a model unless you have thought about how the system as a whole works\n",
      "\n"
     ]
    },
    {
     "cell_type": "code",
     "collapsed": false,
     "input": [
      "#ignore python vodoo occuring in the cell\n",
      "%load_ext rmagic"
     ],
     "language": "python",
     "metadata": {},
     "outputs": [],
     "prompt_number": 1
    },
    {
     "cell_type": "markdown",
     "metadata": {},
     "source": [
      "Why R\n",
      "-------------\n",
      "\n",
      "This Presentation is written in R. Why:\n",
      "\n",
      "1. Its free\n",
      "2. Its the Lingua Franca of statistics\n",
      "3. It is endlessly adaptable. You can do anything in it\n",
      "4. Good SEM options: Lavaan, Open MX, SEM, What we are going to write here."
     ]
    },
    {
     "cell_type": "code",
     "collapsed": false,
     "input": [
      "%%R\n",
      "require(Matrix)\n",
      "  require(MASS)\n",
      "  #data cut and pasted from web\n",
      "dat<- '.804 .399 .500 .367 .451 .510 .487 .833 .433 .283 .372 .377 .621 .529 .805 .339 .551 .543 .478 .362 .441 .733 .332 .341 .570 .461 .695 .438 .780 .556 .626 .455 .667 .438 .693 .825'\n",
      "  dat<- strsplit(dat, ' ')\n",
      "\n",
      "  dat<-as.numeric(unlist(dat))#cov matrix for one factor CFA\n",
      "\n",
      "  covar1<- matrix(dat, nrow=6, ncol=6, byrow=FALSE)\n",
      "  covar1<-t(covar1)\n",
      "  covar1<-as.matrix(forceSymmetric(covar1))\n",
      "\n",
      "  myData <- mvrnorm(1000, rep(0, 6), covar1)\n",
      "  colnames(myData) <- paste('Item', 1:6, sep='')\n",
      "  print(round(head(myData),2))"
     ],
     "language": "python",
     "metadata": {},
     "outputs": [
      {
       "metadata": {},
       "output_type": "display_data",
       "text": [
        "     Item1 Item2 Item3 Item4 Item5 Item6\n",
        "[1,] -0.47 -1.86 -1.85 -1.36  0.27 -1.21\n",
        "[2,] -1.75 -1.03 -1.33 -1.76 -1.55 -2.03\n",
        "[3,]  0.06  1.21  0.84 -0.32  0.96  1.91\n",
        "[4,] -0.10  0.15 -0.02 -0.02 -0.29 -0.20\n",
        "[5,]  0.80  0.38 -0.32  0.26  0.42  0.32\n",
        "[6,]  0.32 -0.08 -1.54 -0.15  0.81  0.39\n"
       ]
      }
     ],
     "prompt_number": 5
    },
    {
     "cell_type": "code",
     "collapsed": false,
     "input": [],
     "language": "python",
     "metadata": {},
     "outputs": []
    }
   ],
   "metadata": {}
  }
 ]
}